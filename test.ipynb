{
 "cells": [
  {
   "cell_type": "code",
   "execution_count": 10,
   "metadata": {
    "collapsed": true,
    "pycharm": {
     "is_executing": false
    }
   },
   "outputs": [],
   "source": [
    "import akshare as ak\n",
    "import numpy as np"
   ]
  },
  {
   "cell_type": "code",
   "execution_count": 11,
   "outputs": [],
   "source": [
    "# covid_19_hist_city_df = ak.covid_19_hist_city(city=\"武汉市\")\n",
    "# covid_19_hist_city_df.head(10)"
   ],
   "metadata": {
    "collapsed": false,
    "pycharm": {
     "name": "#%%\n",
     "is_executing": false
    }
   }
  },
  {
   "cell_type": "code",
   "execution_count": 12,
   "outputs": [
    {
     "data": {
      "text/plain": "[[1, 2], [2, 4], [3, 6], [4, 8], [5, 9]]"
     },
     "metadata": {},
     "output_type": "execute_result",
     "execution_count": 12
    }
   ],
   "source": [
    "a = [1,2,3,4,5]\n",
    "b = [2,4,6,8,9]\n",
    "c = zip(a,b)\n",
    "c = [[a, b] for (a,b) in c]\n",
    "c"
   ],
   "metadata": {
    "collapsed": false,
    "pycharm": {
     "name": "#%%\n",
     "is_executing": false
    }
   }
  },
  {
   "cell_type": "code",
   "execution_count": 13,
   "outputs": [
    {
     "name": "stdout",
     "text": [
      "          date country countryCode province provinceCode city cityCode  \\\n",
      "1   2019-12-01      中国          CN      湖北省       420000                 \n",
      "2   2019-12-01      中国          CN      湖北省       420000  武汉市   420100   \n",
      "4   2019-12-02      中国          CN      湖北省       420000                 \n",
      "5   2019-12-02      中国          CN      湖北省       420000  武汉市   420100   \n",
      "7   2019-12-03      中国          CN      湖北省       420000                 \n",
      "8   2019-12-03      中国          CN      湖北省       420000  武汉市   420100   \n",
      "10  2019-12-04      中国          CN      湖北省       420000                 \n",
      "11  2019-12-04      中国          CN      湖北省       420000  武汉市   420100   \n",
      "13  2019-12-05      中国          CN      湖北省       420000                 \n",
      "14  2019-12-05      中国          CN      湖北省       420000  武汉市   420100   \n",
      "\n",
      "    confirmed  suspected  cured  dead  \n",
      "1           1          0      0     0  \n",
      "2           1          0      0     0  \n",
      "4           1          0      0     0  \n",
      "5           1          0      0     0  \n",
      "7           1          0      0     0  \n",
      "8           1          0      0     0  \n",
      "10          1          0      0     0  \n",
      "11          1          0      0     0  \n",
      "13          1          0      0     0  \n",
      "14          1          0      0     0  \n"
     ],
     "output_type": "stream"
    }
   ],
   "source": [
    "covid_19_hist_province_df = ak.covid_19_hist_province(province=\"湖北省\")\n"
   ],
   "metadata": {
    "collapsed": false,
    "pycharm": {
     "name": "#%%\n",
     "is_executing": false
    }
   }
  },
  {
   "cell_type": "code",
   "execution_count": 16,
   "outputs": [
    {
     "data": {
      "text/plain": "            date country countryCode province provinceCode city cityCode  \\\n6996  2020-02-08      中国          CN      湖北省       420000  武汉市   420100   \n\n      confirmed  suspected  cured  dead  \n6996      13603          0    662   545  ",
      "text/html": "<div>\n<style scoped>\n    .dataframe tbody tr th:only-of-type {\n        vertical-align: middle;\n    }\n\n    .dataframe tbody tr th {\n        vertical-align: top;\n    }\n\n    .dataframe thead th {\n        text-align: right;\n    }\n</style>\n<table border=\"1\" class=\"dataframe\">\n  <thead>\n    <tr style=\"text-align: right;\">\n      <th></th>\n      <th>date</th>\n      <th>country</th>\n      <th>countryCode</th>\n      <th>province</th>\n      <th>provinceCode</th>\n      <th>city</th>\n      <th>cityCode</th>\n      <th>confirmed</th>\n      <th>suspected</th>\n      <th>cured</th>\n      <th>dead</th>\n    </tr>\n  </thead>\n  <tbody>\n    <tr>\n      <td>6996</td>\n      <td>2020-02-08</td>\n      <td>中国</td>\n      <td>CN</td>\n      <td>湖北省</td>\n      <td>420000</td>\n      <td>武汉市</td>\n      <td>420100</td>\n      <td>13603</td>\n      <td>0</td>\n      <td>662</td>\n      <td>545</td>\n    </tr>\n  </tbody>\n</table>\n</div>"
     },
     "metadata": {},
     "output_type": "execute_result",
     "execution_count": 16
    }
   ],
   "source": [
    "df_epidemic = covid_19_hist_province_df.loc[covid_19_hist_province_df['city']=='武汉市']\n",
    "df_dt_epidemic = df_epidemic.loc[df_epidemic['date']=='2020-02-08']\n",
    "df_dt_epidemic.head()"
   ],
   "metadata": {
    "collapsed": false,
    "pycharm": {
     "name": "#%%\n",
     "is_executing": false
    }
   }
  },
  {
   "cell_type": "code",
   "execution_count": 48,
   "outputs": [],
   "source": [
    "migration_area_baidu_df = ak.migration_area_baidu(area=\"湖北省\", indicator=\"move_out\", date=\"20200121\")\n",
    "migration_out_city=migration_area_baidu_df.loc[:10]\n",
    "# migration_out_city\n",
    "cities = np.array(migration_out_city['city_name'])\n",
    "ratio = np.array(migration_out_city['value'])"
   ],
   "metadata": {
    "collapsed": false,
    "pycharm": {
     "name": "#%%\n",
     "is_executing": false
    }
   }
  },
  {
   "cell_type": "code",
   "execution_count": 49,
   "outputs": [
    {
     "data": {
      "text/plain": "[('重庆市', 8.23),\n ('南阳市', 5.13),\n ('信阳市', 3.94),\n ('岳阳市', 3.52),\n ('九江市', 3.3),\n ('常德市', 2.78),\n ('长沙市', 2.11),\n ('深圳市', 1.87),\n ('驻马店市', 1.81),\n ('广州市', 1.64),\n ('安庆市', 1.54)]"
     },
     "metadata": {},
     "output_type": "execute_result",
     "execution_count": 49
    }
   ],
   "source": [
    "city_data = [x for x in zip(cities,ratio)]\n",
    "city_data"
   ],
   "metadata": {
    "collapsed": false,
    "pycharm": {
     "name": "#%%\n",
     "is_executing": false
    }
   }
  }
 ],
 "metadata": {
  "kernelspec": {
   "display_name": "Python 3",
   "language": "python",
   "name": "python3"
  },
  "language_info": {
   "codemirror_mode": {
    "name": "ipython",
    "version": 2
   },
   "file_extension": ".py",
   "mimetype": "text/x-python",
   "name": "python",
   "nbconvert_exporter": "python",
   "pygments_lexer": "ipython2",
   "version": "2.7.6"
  },
  "pycharm": {
   "stem_cell": {
    "cell_type": "raw",
    "source": [],
    "metadata": {
     "collapsed": false
    }
   }
  }
 },
 "nbformat": 4,
 "nbformat_minor": 0
}